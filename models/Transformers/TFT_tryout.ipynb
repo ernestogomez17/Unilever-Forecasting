{
 "cells": [
  {
   "cell_type": "markdown",
   "metadata": {},
   "source": [
    "## Temporal Fusion Transformer"
   ]
  },
  {
   "cell_type": "markdown",
   "metadata": {},
   "source": [
    "# Import model and dataset"
   ]
  },
  {
   "cell_type": "code",
   "execution_count": 1,
   "metadata": {},
   "outputs": [],
   "source": [
    "import os\n",
    "import warnings\n",
    "import copy\n",
    "from pathlib import Path\n",
    "\n",
    "import lightning.pytorch as pl\n",
    "from lightning.pytorch.callbacks import EarlyStopping, LearningRateMonitor, ModelCheckpoint\n",
    "from lightning.pytorch.loggers import TensorBoardLogger\n",
    "import numpy as np\n",
    "import pandas as pd\n",
    "import torch\n",
    "from pytorch_forecasting import Baseline, TemporalFusionTransformer, TimeSeriesDataSet\n",
    "from pytorch_forecasting.data import GroupNormalizer, MultiNormalizer\n",
    "from pytorch_forecasting.metrics import MAE, SMAPE, PoissonLoss, QuantileLoss\n",
    "from pytorch_forecasting.models.temporal_fusion_transformer.tuning import optimize_hyperparameters\n",
    "import multiprocessing\n",
    "import torch\n",
    "from pytorch_forecasting.metrics import RMSE, MAE\n",
    "import matplotlib.pyplot as plt\n",
    "import numpy as np\n",
    "from sklearn.model_selection import train_test_split"
   ]
  },
  {
   "cell_type": "code",
   "execution_count": 2,
   "metadata": {},
   "outputs": [],
   "source": [
    "data = np.load(r\"D:\\Study\\Research-Lee 2024\\Unilever\\Unilever Data\\Unprocessed panda\\DEODORANT & FRAGRANCE_dataset.npz\")\n",
    "\n",
    "X = data['array_3d']  # Shape: (timestep, prediction_window, node, features)"
   ]
  },
  {
   "cell_type": "code",
   "execution_count": 3,
   "metadata": {},
   "outputs": [
    {
     "data": {
      "text/plain": [
       "(180, 6884, 233)"
      ]
     },
     "execution_count": 3,
     "metadata": {},
     "output_type": "execute_result"
    }
   ],
   "source": [
    "X.shape"
   ]
  },
  {
   "cell_type": "code",
   "execution_count": 4,
   "metadata": {},
   "outputs": [],
   "source": [
    "# Reshape and convert data to pandas DataFrame\n",
    "def to_dataframe(X, time_col='time_idx', node_col='node_id'):\n",
    "    time_steps, nodes, features = X.shape\n",
    "    data_list = []\n",
    "\n",
    "    for t in range(time_steps):\n",
    "        for n in range(nodes):\n",
    "            row = {\n",
    "                time_col: t,\n",
    "                node_col: n,\n",
    "                **{f'feature_{i}': X[t, n, i] for i in range(features)},\n",
    "            }\n",
    "            data_list.append(row)\n",
    "\n",
    "    return pd.DataFrame(data_list)\n",
    "\n",
    "df = to_dataframe(X)"
   ]
  },
  {
   "cell_type": "code",
   "execution_count": 6,
   "metadata": {},
   "outputs": [
    {
     "data": {
      "text/html": [
       "<div>\n",
       "<style scoped>\n",
       "    .dataframe tbody tr th:only-of-type {\n",
       "        vertical-align: middle;\n",
       "    }\n",
       "\n",
       "    .dataframe tbody tr th {\n",
       "        vertical-align: top;\n",
       "    }\n",
       "\n",
       "    .dataframe thead th {\n",
       "        text-align: right;\n",
       "    }\n",
       "</style>\n",
       "<table border=\"1\" class=\"dataframe\">\n",
       "  <thead>\n",
       "    <tr style=\"text-align: right;\">\n",
       "      <th></th>\n",
       "      <th>time_idx</th>\n",
       "      <th>node_id</th>\n",
       "      <th>feature_0</th>\n",
       "      <th>feature_1</th>\n",
       "      <th>feature_2</th>\n",
       "      <th>feature_3</th>\n",
       "      <th>feature_4</th>\n",
       "      <th>feature_5</th>\n",
       "      <th>feature_6</th>\n",
       "      <th>feature_7</th>\n",
       "      <th>...</th>\n",
       "      <th>feature_223</th>\n",
       "      <th>feature_224</th>\n",
       "      <th>feature_225</th>\n",
       "      <th>feature_226</th>\n",
       "      <th>feature_227</th>\n",
       "      <th>feature_228</th>\n",
       "      <th>feature_229</th>\n",
       "      <th>feature_230</th>\n",
       "      <th>feature_231</th>\n",
       "      <th>feature_232</th>\n",
       "    </tr>\n",
       "  </thead>\n",
       "  <tbody>\n",
       "    <tr>\n",
       "      <th>0</th>\n",
       "      <td>0</td>\n",
       "      <td>0</td>\n",
       "      <td>0.0</td>\n",
       "      <td>0.0</td>\n",
       "      <td>0.0</td>\n",
       "      <td>0.0</td>\n",
       "      <td>0.0</td>\n",
       "      <td>0.0</td>\n",
       "      <td>0.00</td>\n",
       "      <td>0.0</td>\n",
       "      <td>...</td>\n",
       "      <td>0.0</td>\n",
       "      <td>0.0</td>\n",
       "      <td>0.0</td>\n",
       "      <td>0.0</td>\n",
       "      <td>0.0</td>\n",
       "      <td>0.0</td>\n",
       "      <td>0.0</td>\n",
       "      <td>0.0</td>\n",
       "      <td>0.0</td>\n",
       "      <td>0.0</td>\n",
       "    </tr>\n",
       "    <tr>\n",
       "      <th>1</th>\n",
       "      <td>0</td>\n",
       "      <td>1</td>\n",
       "      <td>0.0</td>\n",
       "      <td>0.0</td>\n",
       "      <td>0.0</td>\n",
       "      <td>0.0</td>\n",
       "      <td>0.0</td>\n",
       "      <td>0.0</td>\n",
       "      <td>0.00</td>\n",
       "      <td>0.0</td>\n",
       "      <td>...</td>\n",
       "      <td>0.0</td>\n",
       "      <td>0.0</td>\n",
       "      <td>0.0</td>\n",
       "      <td>0.0</td>\n",
       "      <td>0.0</td>\n",
       "      <td>0.0</td>\n",
       "      <td>0.0</td>\n",
       "      <td>0.0</td>\n",
       "      <td>0.0</td>\n",
       "      <td>0.0</td>\n",
       "    </tr>\n",
       "    <tr>\n",
       "      <th>2</th>\n",
       "      <td>0</td>\n",
       "      <td>2</td>\n",
       "      <td>0.0</td>\n",
       "      <td>0.0</td>\n",
       "      <td>0.0</td>\n",
       "      <td>0.0</td>\n",
       "      <td>0.0</td>\n",
       "      <td>0.0</td>\n",
       "      <td>0.00</td>\n",
       "      <td>0.0</td>\n",
       "      <td>...</td>\n",
       "      <td>0.0</td>\n",
       "      <td>0.0</td>\n",
       "      <td>0.0</td>\n",
       "      <td>0.0</td>\n",
       "      <td>0.0</td>\n",
       "      <td>0.0</td>\n",
       "      <td>0.0</td>\n",
       "      <td>0.0</td>\n",
       "      <td>0.0</td>\n",
       "      <td>0.0</td>\n",
       "    </tr>\n",
       "    <tr>\n",
       "      <th>3</th>\n",
       "      <td>0</td>\n",
       "      <td>3</td>\n",
       "      <td>0.0</td>\n",
       "      <td>0.0</td>\n",
       "      <td>0.0</td>\n",
       "      <td>0.0</td>\n",
       "      <td>0.0</td>\n",
       "      <td>0.0</td>\n",
       "      <td>0.00</td>\n",
       "      <td>0.0</td>\n",
       "      <td>...</td>\n",
       "      <td>0.0</td>\n",
       "      <td>0.0</td>\n",
       "      <td>0.0</td>\n",
       "      <td>0.0</td>\n",
       "      <td>0.0</td>\n",
       "      <td>0.0</td>\n",
       "      <td>0.0</td>\n",
       "      <td>0.0</td>\n",
       "      <td>0.0</td>\n",
       "      <td>0.0</td>\n",
       "    </tr>\n",
       "    <tr>\n",
       "      <th>4</th>\n",
       "      <td>0</td>\n",
       "      <td>4</td>\n",
       "      <td>0.0</td>\n",
       "      <td>0.0</td>\n",
       "      <td>0.0</td>\n",
       "      <td>0.0</td>\n",
       "      <td>0.0</td>\n",
       "      <td>0.0</td>\n",
       "      <td>0.00</td>\n",
       "      <td>0.0</td>\n",
       "      <td>...</td>\n",
       "      <td>0.0</td>\n",
       "      <td>0.0</td>\n",
       "      <td>0.0</td>\n",
       "      <td>0.0</td>\n",
       "      <td>0.0</td>\n",
       "      <td>0.0</td>\n",
       "      <td>0.0</td>\n",
       "      <td>0.0</td>\n",
       "      <td>0.0</td>\n",
       "      <td>0.0</td>\n",
       "    </tr>\n",
       "    <tr>\n",
       "      <th>...</th>\n",
       "      <td>...</td>\n",
       "      <td>...</td>\n",
       "      <td>...</td>\n",
       "      <td>...</td>\n",
       "      <td>...</td>\n",
       "      <td>...</td>\n",
       "      <td>...</td>\n",
       "      <td>...</td>\n",
       "      <td>...</td>\n",
       "      <td>...</td>\n",
       "      <td>...</td>\n",
       "      <td>...</td>\n",
       "      <td>...</td>\n",
       "      <td>...</td>\n",
       "      <td>...</td>\n",
       "      <td>...</td>\n",
       "      <td>...</td>\n",
       "      <td>...</td>\n",
       "      <td>...</td>\n",
       "      <td>...</td>\n",
       "      <td>...</td>\n",
       "    </tr>\n",
       "    <tr>\n",
       "      <th>1239115</th>\n",
       "      <td>179</td>\n",
       "      <td>6879</td>\n",
       "      <td>0.0</td>\n",
       "      <td>0.0</td>\n",
       "      <td>0.0</td>\n",
       "      <td>1.0</td>\n",
       "      <td>0.0</td>\n",
       "      <td>0.0</td>\n",
       "      <td>1.98</td>\n",
       "      <td>0.0</td>\n",
       "      <td>...</td>\n",
       "      <td>0.0</td>\n",
       "      <td>0.0</td>\n",
       "      <td>1.0</td>\n",
       "      <td>0.0</td>\n",
       "      <td>0.0</td>\n",
       "      <td>0.0</td>\n",
       "      <td>0.0</td>\n",
       "      <td>0.0</td>\n",
       "      <td>0.0</td>\n",
       "      <td>0.0</td>\n",
       "    </tr>\n",
       "    <tr>\n",
       "      <th>1239116</th>\n",
       "      <td>179</td>\n",
       "      <td>6880</td>\n",
       "      <td>0.0</td>\n",
       "      <td>0.0</td>\n",
       "      <td>0.0</td>\n",
       "      <td>0.0</td>\n",
       "      <td>0.0</td>\n",
       "      <td>0.0</td>\n",
       "      <td>0.00</td>\n",
       "      <td>0.0</td>\n",
       "      <td>...</td>\n",
       "      <td>0.0</td>\n",
       "      <td>0.0</td>\n",
       "      <td>0.0</td>\n",
       "      <td>0.0</td>\n",
       "      <td>0.0</td>\n",
       "      <td>0.0</td>\n",
       "      <td>0.0</td>\n",
       "      <td>0.0</td>\n",
       "      <td>0.0</td>\n",
       "      <td>0.0</td>\n",
       "    </tr>\n",
       "    <tr>\n",
       "      <th>1239117</th>\n",
       "      <td>179</td>\n",
       "      <td>6881</td>\n",
       "      <td>0.0</td>\n",
       "      <td>0.0</td>\n",
       "      <td>0.0</td>\n",
       "      <td>1.0</td>\n",
       "      <td>0.0</td>\n",
       "      <td>0.0</td>\n",
       "      <td>17.50</td>\n",
       "      <td>0.0</td>\n",
       "      <td>...</td>\n",
       "      <td>0.0</td>\n",
       "      <td>0.0</td>\n",
       "      <td>1.0</td>\n",
       "      <td>0.0</td>\n",
       "      <td>0.0</td>\n",
       "      <td>0.0</td>\n",
       "      <td>0.0</td>\n",
       "      <td>0.0</td>\n",
       "      <td>0.0</td>\n",
       "      <td>0.0</td>\n",
       "    </tr>\n",
       "    <tr>\n",
       "      <th>1239118</th>\n",
       "      <td>179</td>\n",
       "      <td>6882</td>\n",
       "      <td>0.0</td>\n",
       "      <td>0.0</td>\n",
       "      <td>0.0</td>\n",
       "      <td>0.0</td>\n",
       "      <td>0.0</td>\n",
       "      <td>0.0</td>\n",
       "      <td>0.00</td>\n",
       "      <td>0.0</td>\n",
       "      <td>...</td>\n",
       "      <td>0.0</td>\n",
       "      <td>0.0</td>\n",
       "      <td>0.0</td>\n",
       "      <td>0.0</td>\n",
       "      <td>0.0</td>\n",
       "      <td>0.0</td>\n",
       "      <td>0.0</td>\n",
       "      <td>0.0</td>\n",
       "      <td>0.0</td>\n",
       "      <td>0.0</td>\n",
       "    </tr>\n",
       "    <tr>\n",
       "      <th>1239119</th>\n",
       "      <td>179</td>\n",
       "      <td>6883</td>\n",
       "      <td>0.0</td>\n",
       "      <td>0.0</td>\n",
       "      <td>0.0</td>\n",
       "      <td>0.0</td>\n",
       "      <td>0.0</td>\n",
       "      <td>0.0</td>\n",
       "      <td>0.00</td>\n",
       "      <td>0.0</td>\n",
       "      <td>...</td>\n",
       "      <td>0.0</td>\n",
       "      <td>0.0</td>\n",
       "      <td>0.0</td>\n",
       "      <td>0.0</td>\n",
       "      <td>0.0</td>\n",
       "      <td>0.0</td>\n",
       "      <td>0.0</td>\n",
       "      <td>0.0</td>\n",
       "      <td>0.0</td>\n",
       "      <td>0.0</td>\n",
       "    </tr>\n",
       "  </tbody>\n",
       "</table>\n",
       "<p>1239120 rows × 235 columns</p>\n",
       "</div>"
      ],
      "text/plain": [
       "         time_idx  node_id  feature_0  feature_1  feature_2  feature_3  \\\n",
       "0               0        0        0.0        0.0        0.0        0.0   \n",
       "1               0        1        0.0        0.0        0.0        0.0   \n",
       "2               0        2        0.0        0.0        0.0        0.0   \n",
       "3               0        3        0.0        0.0        0.0        0.0   \n",
       "4               0        4        0.0        0.0        0.0        0.0   \n",
       "...           ...      ...        ...        ...        ...        ...   \n",
       "1239115       179     6879        0.0        0.0        0.0        1.0   \n",
       "1239116       179     6880        0.0        0.0        0.0        0.0   \n",
       "1239117       179     6881        0.0        0.0        0.0        1.0   \n",
       "1239118       179     6882        0.0        0.0        0.0        0.0   \n",
       "1239119       179     6883        0.0        0.0        0.0        0.0   \n",
       "\n",
       "         feature_4  feature_5  feature_6  feature_7  ...  feature_223  \\\n",
       "0              0.0        0.0       0.00        0.0  ...          0.0   \n",
       "1              0.0        0.0       0.00        0.0  ...          0.0   \n",
       "2              0.0        0.0       0.00        0.0  ...          0.0   \n",
       "3              0.0        0.0       0.00        0.0  ...          0.0   \n",
       "4              0.0        0.0       0.00        0.0  ...          0.0   \n",
       "...            ...        ...        ...        ...  ...          ...   \n",
       "1239115        0.0        0.0       1.98        0.0  ...          0.0   \n",
       "1239116        0.0        0.0       0.00        0.0  ...          0.0   \n",
       "1239117        0.0        0.0      17.50        0.0  ...          0.0   \n",
       "1239118        0.0        0.0       0.00        0.0  ...          0.0   \n",
       "1239119        0.0        0.0       0.00        0.0  ...          0.0   \n",
       "\n",
       "         feature_224  feature_225  feature_226  feature_227  feature_228  \\\n",
       "0                0.0          0.0          0.0          0.0          0.0   \n",
       "1                0.0          0.0          0.0          0.0          0.0   \n",
       "2                0.0          0.0          0.0          0.0          0.0   \n",
       "3                0.0          0.0          0.0          0.0          0.0   \n",
       "4                0.0          0.0          0.0          0.0          0.0   \n",
       "...              ...          ...          ...          ...          ...   \n",
       "1239115          0.0          1.0          0.0          0.0          0.0   \n",
       "1239116          0.0          0.0          0.0          0.0          0.0   \n",
       "1239117          0.0          1.0          0.0          0.0          0.0   \n",
       "1239118          0.0          0.0          0.0          0.0          0.0   \n",
       "1239119          0.0          0.0          0.0          0.0          0.0   \n",
       "\n",
       "         feature_229  feature_230  feature_231  feature_232  \n",
       "0                0.0          0.0          0.0          0.0  \n",
       "1                0.0          0.0          0.0          0.0  \n",
       "2                0.0          0.0          0.0          0.0  \n",
       "3                0.0          0.0          0.0          0.0  \n",
       "4                0.0          0.0          0.0          0.0  \n",
       "...              ...          ...          ...          ...  \n",
       "1239115          0.0          0.0          0.0          0.0  \n",
       "1239116          0.0          0.0          0.0          0.0  \n",
       "1239117          0.0          0.0          0.0          0.0  \n",
       "1239118          0.0          0.0          0.0          0.0  \n",
       "1239119          0.0          0.0          0.0          0.0  \n",
       "\n",
       "[1239120 rows x 235 columns]"
      ]
     },
     "execution_count": 6,
     "metadata": {},
     "output_type": "execute_result"
    }
   ],
   "source": [
    "df"
   ]
  },
  {
   "cell_type": "code",
   "execution_count": 5,
   "metadata": {},
   "outputs": [],
   "source": [
    "# Split data into train, validation, and test sets\n",
    "def split_data(df, time_col, test_size=0.15, val_size=0.15):\n",
    "    # Split the DataFrame into training and temporary sets\n",
    "    train_df, temp_df = train_test_split(df, test_size=test_size + val_size, shuffle=False, stratify=None)\n",
    "    # Split the temporary set into validation and test sets\n",
    "    val_df, test_df = train_test_split(temp_df, test_size=test_size / (test_size + val_size), shuffle=False, stratify=None)\n",
    "    return train_df, val_df, test_df\n",
    "\n",
    "train_df, val_df, test_df = split_data(df, time_col='time_idx')"
   ]
  },
  {
   "cell_type": "code",
   "execution_count": 5,
   "metadata": {},
   "outputs": [
    {
     "name": "stdout",
     "output_type": "stream",
     "text": [
      "(867384, 235)\n"
     ]
    }
   ],
   "source": [
    "print(train_df.shape)"
   ]
  },
  {
   "cell_type": "code",
   "execution_count": 6,
   "metadata": {},
   "outputs": [
    {
     "data": {
      "text/plain": [
       "(185868, 235)"
      ]
     },
     "execution_count": 6,
     "metadata": {},
     "output_type": "execute_result"
    }
   ],
   "source": [
    "val_df.shape"
   ]
  },
  {
   "cell_type": "code",
   "execution_count": 7,
   "metadata": {},
   "outputs": [
    {
     "data": {
      "text/plain": [
       "(185868, 235)"
      ]
     },
     "execution_count": 7,
     "metadata": {},
     "output_type": "execute_result"
    }
   ],
   "source": [
    "test_df.shape"
   ]
  },
  {
   "cell_type": "markdown",
   "metadata": {},
   "source": [
    "# Dataloader construction"
   ]
  },
  {
   "cell_type": "code",
   "execution_count": 6,
   "metadata": {},
   "outputs": [
    {
     "name": "stdout",
     "output_type": "stream",
     "text": [
      "Checking for missing values...\n",
      "feature_19     34027\n",
      "feature_20     34027\n",
      "feature_21     34027\n",
      "feature_22     34027\n",
      "feature_23     34027\n",
      "               ...  \n",
      "feature_222    34027\n",
      "feature_226    34027\n",
      "feature_227    34027\n",
      "feature_229    34027\n",
      "feature_232    34027\n",
      "Length: 112, dtype: int64\n",
      "Checking for missing values...\n",
      "feature_19     14107\n",
      "feature_20     14107\n",
      "feature_21     14107\n",
      "feature_22     14107\n",
      "feature_23     14107\n",
      "               ...  \n",
      "feature_222    14107\n",
      "feature_226    14107\n",
      "feature_227    14107\n",
      "feature_229    14107\n",
      "feature_232    14107\n",
      "Length: 112, dtype: int64\n",
      "Checking for missing values...\n",
      "feature_19     16115\n",
      "feature_20     16115\n",
      "feature_21     16115\n",
      "feature_22     16115\n",
      "feature_23     16115\n",
      "               ...  \n",
      "feature_222    16115\n",
      "feature_226    16115\n",
      "feature_227    16115\n",
      "feature_229    16115\n",
      "feature_232    16115\n",
      "Length: 112, dtype: int64\n"
     ]
    }
   ],
   "source": [
    "from sklearn.impute import SimpleImputer\n",
    "\n",
    "# Define categorical and continuous features\n",
    "categorical_features = ['node_id']\n",
    "continuous_features = [f'feature_{i}' for i in range(1, X.shape[-1])]\n",
    "\n",
    "def create_dataset(df, time_col, target_col, group_col, max_encoder_length, max_prediction_length):\n",
    "    # Convert the group column to string type\n",
    "    df[group_col] = df[group_col].astype(str)\n",
    "    \n",
    "    # Check for missing values\n",
    "    print(\"Checking for missing values...\")\n",
    "    missing_summary = df.isna().sum()\n",
    "    print(missing_summary[missing_summary > 0])\n",
    "\n",
    "    # Handle missing values\n",
    "    # Drop rows with missing target values\n",
    "    df = df.dropna(subset=[target_col])\n",
    "    \n",
    "    # Fill missing values for features using mean imputation\n",
    "    feature_cols = [col for col in df.columns if col.startswith('feature_') and col != \"feature_0\"]\n",
    "    imputer = SimpleImputer(strategy='mean')\n",
    "    df[feature_cols] = imputer.fit_transform(df[feature_cols])\n",
    "    \n",
    "    # Define categorical and continuous features\n",
    "    static_categoricals = [group_col]\n",
    "    time_varying_known_reals = feature_cols\n",
    "    time_varying_unknown_reals = [target_col]\n",
    "    \n",
    "    return TimeSeriesDataSet(\n",
    "        df,\n",
    "        time_idx=time_col,\n",
    "        target=target_col,\n",
    "        group_ids=[group_col],\n",
    "        min_encoder_length=max_encoder_length,\n",
    "        max_encoder_length=max_encoder_length,\n",
    "        min_prediction_length=max_prediction_length,\n",
    "        max_prediction_length=max_prediction_length,\n",
    "        static_categoricals=static_categoricals,\n",
    "        static_reals=[],  # No static real features in this example\n",
    "        time_varying_known_categoricals=[],\n",
    "        time_varying_known_reals=time_varying_known_reals,\n",
    "        time_varying_unknown_categoricals=[],\n",
    "        time_varying_unknown_reals=time_varying_unknown_reals,\n",
    "        allow_missing_timesteps=True\n",
    "    )\n",
    "\n",
    "\n",
    "\n",
    "# Set maximum lengths\n",
    "max_encoder_length = 6  # Length of the historical data\n",
    "max_prediction_length = 6  # Length of the forecast\n",
    "\n",
    "train_dataset = create_dataset(train_df, time_col='time_idx', target_col='feature_0', group_col='node_id', max_encoder_length=max_encoder_length, max_prediction_length=max_prediction_length)\n",
    "val_dataset = create_dataset(val_df, time_col='time_idx', target_col='feature_0', group_col='node_id', max_encoder_length=max_encoder_length, max_prediction_length=max_prediction_length)\n",
    "test_dataset = create_dataset(test_df, time_col='time_idx', target_col='feature_0', group_col='node_id', max_encoder_length=max_encoder_length, max_prediction_length=max_prediction_length)\n",
    "\n",
    "# Create DataLoaders\n",
    "batch_size = 128\n",
    "train_dataloader = train_dataset.to_dataloader(train=True, batch_size=batch_size, num_workers=4)\n",
    "val_dataloader = val_dataset.to_dataloader(train=False, batch_size=batch_size, num_workers=4)\n",
    "test_dataloader = test_dataset.to_dataloader(train=False, batch_size=batch_size, num_workers=4)"
   ]
  },
  {
   "cell_type": "markdown",
   "metadata": {},
   "source": [
    "# Model Implementation"
   ]
  },
  {
   "cell_type": "code",
   "execution_count": 7,
   "metadata": {},
   "outputs": [
    {
     "name": "stdout",
     "output_type": "stream",
     "text": [
      "GPU is available. Using GPU.\n"
     ]
    }
   ],
   "source": [
    "# Check if GPU is available\n",
    "if torch.cuda.is_available():\n",
    "    device = 'cuda'\n",
    "    print(\"GPU is available. Using GPU.\")\n",
    "else:\n",
    "    device = 'cpu'\n",
    "    print(\"GPU not available. Using CPU.\")"
   ]
  },
  {
   "cell_type": "code",
   "execution_count": 8,
   "metadata": {},
   "outputs": [],
   "source": [
    "# Set float32 matrix multiplication precision\n",
    "torch.set_float32_matmul_precision('medium')  # or 'high'"
   ]
  },
  {
   "cell_type": "code",
   "execution_count": 20,
   "metadata": {},
   "outputs": [
    {
     "name": "stderr",
     "output_type": "stream",
     "text": [
      "Seed set to 42\n",
      "GPU available: True (cuda), used: True\n",
      "TPU available: False, using: 0 TPU cores\n",
      "HPU available: False, using: 0 HPUs\n",
      "c:\\Users\\Administrator\\AppData\\Local\\Programs\\Python\\Python39\\lib\\site-packages\\lightning\\pytorch\\utilities\\parsing.py:208: Attribute 'loss' is an instance of `nn.Module` and is already saved during checkpointing. It is recommended to ignore them using `self.save_hyperparameters(ignore=['loss'])`.\n",
      "c:\\Users\\Administrator\\AppData\\Local\\Programs\\Python\\Python39\\lib\\site-packages\\lightning\\pytorch\\utilities\\parsing.py:208: Attribute 'logging_metrics' is an instance of `nn.Module` and is already saved during checkpointing. It is recommended to ignore them using `self.save_hyperparameters(ignore=['logging_metrics'])`.\n"
     ]
    },
    {
     "name": "stdout",
     "output_type": "stream",
     "text": [
      "Number of parameters in network: 479.6k\n"
     ]
    }
   ],
   "source": [
    "pl.seed_everything(42)\n",
    "trainer = pl.Trainer(\n",
    "    max_epochs=10,\n",
    "    accelerator=\"cuda\",\n",
    "    # clipping gradients is a hyperparameter and important to prevent divergence\n",
    "    # of the gradient for recurrent neural networks\n",
    "    gradient_clip_val=0.2,\n",
    "    log_every_n_steps=10\n",
    ")\n",
    "\n",
    "tft = TemporalFusionTransformer.from_dataset(\n",
    "    train_dataset,\n",
    "    # not meaningful for finding the learning rate but otherwise very important\n",
    "    learning_rate=0.008,\n",
    "    hidden_size=12,  # most important hyperparameter apart from learning rate\n",
    "    # number of attention heads. Set to up to 4 for large datasets\n",
    "    attention_head_size=4,\n",
    "    dropout=0.1,  # between 0.1 and 0.3 are good values\n",
    "    hidden_continuous_size=12,  # set to <= hidden_size\n",
    "    loss=QuantileLoss(),\n",
    "    optimizer=\"Ranger\"\n",
    "    # reduce learning rate if no improvement in validation loss after x epochs\n",
    "    # reduce_on_plateau_patience=1000,\n",
    ").to(device)\n",
    "\n",
    "print(f\"Number of parameters in network: {tft.size() / 1e3:.1f}k\")\n",
    "\n",
    "class TFTLightningModule(pl.LightningModule):\n",
    "    def __init__(self, tft):\n",
    "        super().__init__()\n",
    "        self.tft = tft\n",
    "\n",
    "    def forward(self, x):\n",
    "        return self.tft(x)\n",
    "\n",
    "    def training_step(self, batch, batch_idx):\n",
    "        x, y = batch\n",
    "        y_hat = self(x)\n",
    "\n",
    "        # Extract prediction from tuple if necessary\n",
    "        if isinstance(y_hat, tuple):\n",
    "            y_hat = y_hat[0]\n",
    "\n",
    "        loss = self.tft.loss(y_hat, y)\n",
    "        self.log(\"train_loss\", loss)\n",
    "        return loss\n",
    "\n",
    "    def validation_step(self, batch, batch_idx):\n",
    "        x, y = batch\n",
    "        y_hat = self(x)\n",
    "\n",
    "        # Ensure y_hat and y are tensors and not tuples, and have the correct shape\n",
    "        if isinstance(y_hat, tuple):\n",
    "            y_hat = y_hat[0]  # Assuming the first element of the tuple is the prediction\n",
    "        if isinstance(y, tuple):\n",
    "            y = y[0]  # Assuming the first element of the tuple is the target\n",
    "\n",
    "        loss = self.tft.loss(y_hat, y)\n",
    "        self.log(\"val_loss\", loss)\n",
    "\n",
    "    def configure_optimizers(self):\n",
    "        return self.tft.configure_optimizers()"
   ]
  },
  {
   "cell_type": "code",
   "execution_count": 12,
   "metadata": {},
   "outputs": [
    {
     "name": "stderr",
     "output_type": "stream",
     "text": [
      "LOCAL_RANK: 0 - CUDA_VISIBLE_DEVICES: [0]\n",
      "c:\\Users\\Administrator\\AppData\\Local\\Programs\\Python\\Python39\\lib\\site-packages\\lightning\\pytorch\\trainer\\connectors\\data_connector.py:419: Consider setting `persistent_workers=True` in 'train_dataloader' to speed up the dataloader worker initialization.\n",
      "c:\\Users\\Administrator\\AppData\\Local\\Programs\\Python\\Python39\\lib\\site-packages\\lightning\\pytorch\\trainer\\connectors\\data_connector.py:419: Consider setting `persistent_workers=True` in 'val_dataloader' to speed up the dataloader worker initialization.\n"
     ]
    },
    {
     "data": {
      "application/vnd.jupyter.widget-view+json": {
       "model_id": "b26b772a43824f988a527ac2ffe4d41d",
       "version_major": 2,
       "version_minor": 0
      },
      "text/plain": [
       "Finding best initial lr:   0%|          | 0/100 [00:00<?, ?it/s]"
      ]
     },
     "metadata": {},
     "output_type": "display_data"
    },
    {
     "name": "stderr",
     "output_type": "stream",
     "text": [
      "`Trainer.fit` stopped: `max_steps=100` reached.\n",
      "Learning rate set to 0.008317637711026716\n",
      "Restoring states from the checkpoint path at d:\\Study\\Research-Lee 2024\\Unilever\\Transformer\\.lr_find_bc08e6ee-3fab-4438-9ed6-8937a560a9e5.ckpt\n",
      "Restored all states from the checkpoint at d:\\Study\\Research-Lee 2024\\Unilever\\Transformer\\.lr_find_bc08e6ee-3fab-4438-9ed6-8937a560a9e5.ckpt\n"
     ]
    },
    {
     "name": "stdout",
     "output_type": "stream",
     "text": [
      "suggested learning rate: 0.008317637711026716\n"
     ]
    },
    {
     "data": {
      "image/png": "[encoded data removed]",
      "text/plain": [
       "<Figure size 640x480 with 1 Axes>"
      ]
     },
     "metadata": {},
     "output_type": "display_data"
    },
    {
     "name": "stderr",
     "output_type": "stream",
     "text": [
      "C:\\Users\\Administrator\\AppData\\Local\\Temp\\ipykernel_26968\\4268711780.py:14: UserWarning: Matplotlib is currently using module://matplotlib_inline.backend_inline, which is a non-GUI backend, so cannot show the figure.\n",
      "  fig.show()\n"
     ]
    }
   ],
   "source": [
    "# find optimal learning rate\n",
    "from lightning.pytorch.tuner import Tuner\n",
    "\n",
    "res = Tuner(trainer).lr_find(\n",
    "    tft,\n",
    "    train_dataloaders=train_dataloader,\n",
    "    val_dataloaders=val_dataloader,\n",
    "    max_lr=10.0,\n",
    "    min_lr=1e-6,\n",
    ")\n",
    "\n",
    "print(f\"suggested learning rate: {res.suggestion()}\")\n",
    "fig = res.plot(show=True, suggest=True)\n",
    "fig.show()"
   ]
  },
  {
   "cell_type": "code",
   "execution_count": 14,
   "metadata": {},
   "outputs": [
    {
     "name": "stderr",
     "output_type": "stream",
     "text": [
      "LOCAL_RANK: 0 - CUDA_VISIBLE_DEVICES: [0]\n",
      "\n",
      "  | Name | Type                      | Params | Mode \n",
      "-----------------------------------------------------------\n",
      "0 | tft  | TemporalFusionTransformer | 479 K  | train\n",
      "-----------------------------------------------------------\n",
      "479 K     Trainable params\n",
      "0         Non-trainable params\n",
      "479 K     Total params\n",
      "1.918     Total estimated model params size (MB)\n",
      "5035      Modules in train mode\n",
      "0         Modules in eval mode\n"
     ]
    },
    {
     "data": {
      "application/vnd.jupyter.widget-view+json": {
       "model_id": "cafc35520e9e4c8397fd84e511979e2c",
       "version_major": 2,
       "version_minor": 0
      },
      "text/plain": [
       "Sanity Checking: |          | 0/? [00:00<?, ?it/s]"
      ]
     },
     "metadata": {},
     "output_type": "display_data"
    },
    {
     "name": "stderr",
     "output_type": "stream",
     "text": [
      "c:\\Users\\Administrator\\AppData\\Local\\Programs\\Python\\Python39\\lib\\site-packages\\lightning\\pytorch\\utilities\\data.py:78: Trying to infer the `batch_size` from an ambiguous collection. The batch size we found is 128. To avoid any miscalculations, use `self.log(..., batch_size=batch_size)`.\n"
     ]
    },
    {
     "data": {
      "application/vnd.jupyter.widget-view+json": {
       "model_id": "5b3c9bc510fa4882b9a4150342c1499b",
       "version_major": 2,
       "version_minor": 0
      },
      "text/plain": [
       "Training: |          | 0/? [00:00<?, ?it/s]"
      ]
     },
     "metadata": {},
     "output_type": "display_data"
    },
    {
     "data": {
      "application/vnd.jupyter.widget-view+json": {
       "model_id": "beb6ae2120cc42f58c6a3a01595da27b",
       "version_major": 2,
       "version_minor": 0
      },
      "text/plain": [
       "Validation: |          | 0/? [00:00<?, ?it/s]"
      ]
     },
     "metadata": {},
     "output_type": "display_data"
    },
    {
     "name": "stderr",
     "output_type": "stream",
     "text": [
      "c:\\Users\\Administrator\\AppData\\Local\\Programs\\Python\\Python39\\lib\\site-packages\\lightning\\pytorch\\utilities\\data.py:78: Trying to infer the `batch_size` from an ambiguous collection. The batch size we found is 64. To avoid any miscalculations, use `self.log(..., batch_size=batch_size)`.\n"
     ]
    },
    {
     "data": {
      "application/vnd.jupyter.widget-view+json": {
       "model_id": "6d6e3fb1e48b480b9210f9ec18ee9dc4",
       "version_major": 2,
       "version_minor": 0
      },
      "text/plain": [
       "Validation: |          | 0/? [00:00<?, ?it/s]"
      ]
     },
     "metadata": {},
     "output_type": "display_data"
    },
    {
     "data": {
      "application/vnd.jupyter.widget-view+json": {
       "model_id": "c78eb6e2b7024e03a4546e4d238c3969",
       "version_major": 2,
       "version_minor": 0
      },
      "text/plain": [
       "Validation: |          | 0/? [00:00<?, ?it/s]"
      ]
     },
     "metadata": {},
     "output_type": "display_data"
    },
    {
     "data": {
      "application/vnd.jupyter.widget-view+json": {
       "model_id": "0455d543fe3240e5be492a51a6183e15",
       "version_major": 2,
       "version_minor": 0
      },
      "text/plain": [
       "Validation: |          | 0/? [00:00<?, ?it/s]"
      ]
     },
     "metadata": {},
     "output_type": "display_data"
    },
    {
     "data": {
      "application/vnd.jupyter.widget-view+json": {
       "model_id": "d54d3f14d85f498fab5b27f2de7401f9",
       "version_major": 2,
       "version_minor": 0
      },
      "text/plain": [
       "Validation: |          | 0/? [00:00<?, ?it/s]"
      ]
     },
     "metadata": {},
     "output_type": "display_data"
    },
    {
     "data": {
      "application/vnd.jupyter.widget-view+json": {
       "model_id": "5a03380fa1dd40bdab3930c499bcf67d",
       "version_major": 2,
       "version_minor": 0
      },
      "text/plain": [
       "Validation: |          | 0/? [00:00<?, ?it/s]"
      ]
     },
     "metadata": {},
     "output_type": "display_data"
    },
    {
     "data": {
      "application/vnd.jupyter.widget-view+json": {
       "model_id": "458df4b3d77b46ba905e01100bdfc1e2",
       "version_major": 2,
       "version_minor": 0
      },
      "text/plain": [
       "Validation: |          | 0/? [00:00<?, ?it/s]"
      ]
     },
     "metadata": {},
     "output_type": "display_data"
    },
    {
     "data": {
      "application/vnd.jupyter.widget-view+json": {
       "model_id": "dc8381203cde4e26bab3dbc70edcc088",
       "version_major": 2,
       "version_minor": 0
      },
      "text/plain": [
       "Validation: |          | 0/? [00:00<?, ?it/s]"
      ]
     },
     "metadata": {},
     "output_type": "display_data"
    },
    {
     "data": {
      "application/vnd.jupyter.widget-view+json": {
       "model_id": "cca32eee17234816adeb2df8fa010757",
       "version_major": 2,
       "version_minor": 0
      },
      "text/plain": [
       "Validation: |          | 0/? [00:00<?, ?it/s]"
      ]
     },
     "metadata": {},
     "output_type": "display_data"
    },
    {
     "data": {
      "application/vnd.jupyter.widget-view+json": {
       "model_id": "201951f4acc245d4a9a316d5812e4bf8",
       "version_major": 2,
       "version_minor": 0
      },
      "text/plain": [
       "Validation: |          | 0/? [00:00<?, ?it/s]"
      ]
     },
     "metadata": {},
     "output_type": "display_data"
    },
    {
     "name": "stderr",
     "output_type": "stream",
     "text": [
      "`Trainer.fit` stopped: `max_epochs=10` reached.\n"
     ]
    }
   ],
   "source": [
    "# Create the LightningModule wrapper\n",
    "tft_lightning = TFTLightningModule(tft)\n",
    "\n",
    "# # Fit the LightningModule wrapper\n",
    "trainer.fit(\n",
    "    tft_lightning,  # Pass the LightningModule wrapper\n",
    "    train_dataloaders=train_dataloader,\n",
    "    val_dataloaders=val_dataloader,\n",
    ")\n",
    "\n",
    "model_save_path = \"trained_unilever_tft_model.pth\"\n",
    "torch.save(tft.state_dict(), model_save_path)"
   ]
  },
  {
   "cell_type": "markdown",
   "metadata": {},
   "source": [
    "Hyperparameter tuning"
   ]
  },
  {
   "cell_type": "code",
   "execution_count": null,
   "metadata": {},
   "outputs": [],
   "source": [
    "# import pickle\n",
    "# from pytorch_forecasting.models.temporal_fusion_transformer.tuning import optimize_hyperparameters\n",
    "#\n",
    "# # Create study\n",
    "# study = optimize_hyperparameters(\n",
    "#     train_dataloader,\n",
    "#     val_dataloader,\n",
    "#     model_path=\"optuna_test\",\n",
    "#     n_trials=5,\n",
    "#     max_epochs=10,\n",
    "#     gradient_clip_val_range=(0.01, 1.0),\n",
    "#     hidden_size_range=(8, 128),\n",
    "#     hidden_continuous_size_range=(8, 128),\n",
    "#     attention_head_size_range=(1, 4),\n",
    "#     learning_rate_range=(0.001, 0.1),\n",
    "#     dropout_range=(0.1, 0.3),\n",
    "#     trainer_kwargs=dict(limit_train_batches=100),\n",
    "#     reduce_on_plateau_patience=4,\n",
    "#     use_learning_rate_finder=False,  # use Optuna to find ideal learning rate or use in-built learning rate finder\n",
    "# )\n",
    "#\n",
    "# # Save study results - we can resume tuning at a later point in time\n",
    "# with open(\"test_study.pkl\", \"wb\") as fout:\n",
    "#     pickle.dump(study, fout)\n",
    "#\n",
    "# # Show best hyperparameters\n",
    "# print(\"Best hyperparameters:\", study.best_trial.params)\n",
    "#\n",
    "# # Initialize the model with best hyperparameters\n",
    "# best_trial = study.best_trial\n",
    "# best_hparams = best_trial.params\n",
    "#\n",
    "# best_tft = TemporalFusionTransformer.from_dataset(\n",
    "#     training,\n",
    "#     hidden_size=best_hparams['hidden_size'],\n",
    "#     dropout=best_hparams['dropout'],\n",
    "#     hidden_continuous_size=int(best_hparams['hidden_continuous_size']),\n",
    "#     attention_head_size=int(best_hparams['attention_head_size']),\n",
    "#     learning_rate=best_hparams['learning_rate'],\n",
    "#     loss=QuantileLoss(),\n",
    "#     log_interval=10,  # Log every 10 batches\n",
    "#     optimizer=\"Ranger\",\n",
    "#     reduce_on_plateau_patience=4,\n",
    "# ).to(device)  # Move the model to GPU\n",
    "#\n",
    "# # Train with best hyperparameters\n",
    "# trainer.fit(\n",
    "#     TFTLightningModule(best_tft),  # Pass the LightningModule wrapper\n",
    "#     train_dataloaders=train_dataloader,\n",
    "#     val_dataloaders=val_dataloader,\n",
    "# )\n",
    "\n",
    "# model_save_path = \"trained_best_tft_model.pth\"\n",
    "# # torch.save(tft.state_dict(), model_save_path)\n",
    "# tft.load_state_dict(torch.load(model_save_path, map_location=device))\n",
    "# calcualte mean absolute error on validation set"
   ]
  },
  {
   "cell_type": "code",
   "execution_count": 18,
   "metadata": {},
   "outputs": [
    {
     "ename": "AttributeError",
     "evalue": "'collections.OrderedDict' object has no attribute 'state_dict'",
     "output_type": "error",
     "traceback": [
      "\u001b[1;31m---------------------------------------------------------------------------\u001b[0m",
      "\u001b[1;31mAttributeError\u001b[0m                            Traceback (most recent call last)",
      "Cell \u001b[1;32mIn[18], line 2\u001b[0m\n\u001b[0;32m      1\u001b[0m model_save_path \u001b[38;5;241m=\u001b[39m \u001b[38;5;124m\"\u001b[39m\u001b[38;5;124mtrained_best_tft_model.pth\u001b[39m\u001b[38;5;124m\"\u001b[39m\n\u001b[1;32m----> 2\u001b[0m torch\u001b[38;5;241m.\u001b[39msave(\u001b[43mtft\u001b[49m\u001b[38;5;241;43m.\u001b[39;49m\u001b[43mstate_dict\u001b[49m(), model_save_path)\n\u001b[0;32m      3\u001b[0m \u001b[38;5;66;03m# tft.load_state_dict(torch.load(model_save_path, map_location=device))\u001b[39;00m\n",
      "\u001b[1;31mAttributeError\u001b[0m: 'collections.OrderedDict' object has no attribute 'state_dict'"
     ]
    }
   ],
   "source": [
    "model_save_path = \"trained_best_tft_model.pth\"\n",
    "torch.save(tft.state_dict(), model_save_path)\n",
    "# tft.load_state_dict(torch.load(model_save_path, map_location=device))"
   ]
  },
  {
   "cell_type": "code",
   "execution_count": 21,
   "metadata": {},
   "outputs": [
    {
     "name": "stderr",
     "output_type": "stream",
     "text": [
      "C:\\Users\\Administrator\\AppData\\Local\\Temp\\ipykernel_26716\\452137744.py:2: FutureWarning: You are using `torch.load` with `weights_only=False` (the current default value), which uses the default pickle module implicitly. It is possible to construct malicious pickle data which will execute arbitrary code during unpickling (See https://github.com/pytorch/pytorch/blob/main/SECURITY.md#untrusted-models for more details). In a future release, the default value for `weights_only` will be flipped to `True`. This limits the functions that could be executed during unpickling. Arbitrary objects will no longer be allowed to be loaded via this mode unless they are explicitly allowlisted by the user via `torch.serialization.add_safe_globals`. We recommend you start setting `weights_only=True` for any use case where you don't have full control of the loaded file. Please open an issue on GitHub for any issues related to this experimental feature.\n",
      "  tft.load_state_dict(torch.load(model_save_path, map_location=device))\n"
     ]
    },
    {
     "data": {
      "text/plain": [
       "<All keys matched successfully>"
      ]
     },
     "execution_count": 21,
     "metadata": {},
     "output_type": "execute_result"
    }
   ],
   "source": [
    "model_save_path = \"trained_best_tft_model.pth\"\n",
    "tft.load_state_dict(torch.load(model_save_path, map_location=device))"
   ]
  },
  {
   "cell_type": "code",
   "execution_count": 26,
   "metadata": {},
   "outputs": [
    {
     "name": "stderr",
     "output_type": "stream",
     "text": [
      "LOCAL_RANK: 0 - CUDA_VISIBLE_DEVICES: [0]\n",
      "c:\\Users\\Administrator\\AppData\\Local\\Programs\\Python\\Python39\\lib\\site-packages\\lightning\\pytorch\\trainer\\connectors\\data_connector.py:419: Consider setting `persistent_workers=True` in 'predict_dataloader' to speed up the dataloader worker initialization.\n",
      "LOCAL_RANK: 0 - CUDA_VISIBLE_DEVICES: [0]\n",
      "c:\\Users\\Administrator\\AppData\\Local\\Programs\\Python\\Python39\\lib\\site-packages\\lightning\\pytorch\\trainer\\connectors\\data_connector.py:419: Consider setting `persistent_workers=True` in 'predict_dataloader' to speed up the dataloader worker initialization.\n"
     ]
    }
   ],
   "source": [
    "# predictions = tft.predict(val_dataloader, return_y=True, trainer_kwargs=dict(accelerator=\"cuda\"))\n",
    "# print(f\"RMSE{RMSE()(predictions.output, predictions.y)}\")\n",
    "# print(\"y = True\")\n",
    "# print(f\"y: {predictions.y}\")\n",
    "# print(f\"output: {predictions.output}\")\n",
    "\n",
    "# Make predictions on validation data\n",
    "val_predictions = tft.predict(val_dataloader, return_index=True, mode=\"raw\")\n",
    "# Predictions on test data\n",
    "test_predictions = tft.predict(test_dataloader, return_index=True, mode=\"raw\")"
   ]
  },
  {
   "cell_type": "code",
   "execution_count": 36,
   "metadata": {},
   "outputs": [],
   "source": [
    "actual_val_targets = val_dataloader.dataset.data[\"target\"]"
   ]
  },
  {
   "cell_type": "code",
   "execution_count": 39,
   "metadata": {},
   "outputs": [
    {
     "name": "stdout",
     "output_type": "stream",
     "text": [
      "Validation prediction\n",
      "tensor([[[  1.7168,   2.7723,   2.3146,  ...,   0.6925,   3.9043,   5.4367],\n",
      "         [  1.7195,   2.7847,   2.3201,  ...,   0.6955,   3.9341,   5.5801],\n",
      "         [  1.7204,   2.7853,   2.3219,  ...,   0.6976,   3.9377,   5.5843],\n",
      "         [  1.7214,   2.7858,   2.3234,  ...,   0.6984,   3.9395,   5.5849],\n",
      "         [  1.7224,   2.7864,   2.3248,  ...,   0.6991,   3.9409,   5.5847],\n",
      "         [  1.7233,   2.7869,   2.3259,  ...,   0.6993,   3.9416,   5.5840]],\n",
      "\n",
      "        [[  1.7162,   2.7719,   2.3139,  ...,   0.6920,   3.9030,   5.4349],\n",
      "         [  1.7197,   2.7850,   2.3205,  ...,   0.6958,   3.9344,   5.5803],\n",
      "         [  1.7207,   2.7854,   2.3222,  ...,   0.6974,   3.9376,   5.5837],\n",
      "         [  1.7217,   2.7860,   2.3238,  ...,   0.6985,   3.9398,   5.5848],\n",
      "         [  1.7227,   2.7865,   2.3251,  ...,   0.6990,   3.9410,   5.5846],\n",
      "         [  1.7237,   2.7870,   2.3263,  ...,   0.6991,   3.9417,   5.5836]],\n",
      "\n",
      "        [[  1.7190,   2.7737,   2.3177,  ...,   0.6936,   3.9082,   5.4416],\n",
      "         [  1.7217,   2.7861,   2.3231,  ...,   0.6965,   3.9371,   5.5826],\n",
      "         [  1.7228,   2.7867,   2.3250,  ...,   0.6983,   3.9404,   5.5859],\n",
      "         [  1.7239,   2.7872,   2.3265,  ...,   0.6990,   3.9422,   5.5865],\n",
      "         [  1.7250,   2.7878,   2.3278,  ...,   0.6994,   3.9433,   5.5860],\n",
      "         [  1.7260,   2.7884,   2.3292,  ...,   0.6998,   3.9444,   5.5854]],\n",
      "\n",
      "        ...,\n",
      "\n",
      "        [[  1.1949,   5.1285,   9.0892,  ...,  10.0341,  25.5388, 108.0271],\n",
      "         [  1.4494,   2.2725,   2.1814,  ...,   1.2523,   4.7577,   6.7390],\n",
      "         [  1.7794,   2.8089,   2.3914,  ...,   0.7065,   3.9869,   5.5634],\n",
      "         [  1.7825,   2.8129,   2.3924,  ...,   0.6963,   3.9786,   5.5517],\n",
      "         [  1.7820,   2.8130,   2.3918,  ...,   0.6959,   3.9773,   5.5503],\n",
      "         [  1.7816,   2.8130,   2.3913,  ...,   0.6959,   3.9767,   5.5499]],\n",
      "\n",
      "        [[  1.7904,   2.8068,   2.3981,  ...,   0.6903,   3.9536,   5.4136],\n",
      "         [  1.7830,   2.8145,   2.3926,  ...,   0.6946,   3.9780,   5.5606],\n",
      "         [  1.7814,   2.8136,   2.3913,  ...,   0.6961,   3.9794,   5.5647],\n",
      "         [  1.7806,   2.8131,   2.3906,  ...,   0.6969,   3.9799,   5.5656],\n",
      "         [  1.7800,   2.8128,   2.3900,  ...,   0.6971,   3.9798,   5.5653],\n",
      "         [  1.7796,   2.8126,   2.3896,  ...,   0.6973,   3.9794,   5.5645]],\n",
      "\n",
      "        [[  1.7867,   2.8052,   2.3948,  ...,   0.6925,   3.9547,   5.4196],\n",
      "         [  1.7796,   2.8133,   2.3894,  ...,   0.6963,   3.9779,   5.5655],\n",
      "         [  1.7784,   2.8126,   2.3884,  ...,   0.6975,   3.9789,   5.5683],\n",
      "         [  1.7777,   2.8122,   2.3878,  ...,   0.6980,   3.9792,   5.5687],\n",
      "         [  1.7773,   2.8120,   2.3874,  ...,   0.6982,   3.9790,   5.5681],\n",
      "         [  1.7770,   2.8118,   2.3871,  ...,   0.6982,   3.9787,   5.5672]]],\n",
      "       device='cuda:0')\n",
      "Validation target\n",
      "[tensor([0., 0., 0.,  ..., 0., 0., 0.])]\n"
     ]
    }
   ],
   "source": [
    "print(\"Validation prediction\")\n",
    "print(val_predictions.output.prediction)\n",
    "print(\"Validation target\")\n",
    "print(actual_val_targets)"
   ]
  }
 ],
 "metadata": {
  "kernelspec": {
   "display_name": "Python 3",
   "language": "python",
   "name": "python3"
  },
  "language_info": {
   "codemirror_mode": {
    "name": "ipython",
    "version": 3
   },
   "file_extension": ".py",
   "mimetype": "text/x-python",
   "name": "python",
   "nbconvert_exporter": "python",
   "pygments_lexer": "ipython3",
   "version": "3.9.13"
  }
 },
 "nbformat": 4,
 "nbformat_minor": 2
}
