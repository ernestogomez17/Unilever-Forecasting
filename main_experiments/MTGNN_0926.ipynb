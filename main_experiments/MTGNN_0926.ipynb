{
  "cells": [
    {
      "cell_type": "markdown",
      "id": "0GsQdl6ncwy9",
      "metadata": {
        "id": "0GsQdl6ncwy9"
      },
      "source": []
    },
    {
      "cell_type": "code",
      "execution_count": 1,
      "id": "IBPKMesXcxVU",
      "metadata": {
        "id": "IBPKMesXcxVU"
      },
      "outputs": [],
      "source": [
        "import matplotlib.pyplot as plt\n",
        "import numpy as np\n",
        "import pandas as pd\n",
        "import torch\n",
        "import torch.nn as nn\n",
        "import torch.optim as optim\n",
        "import torch.utils.data as data\n",
        "import sklearn.metrics as sk"
      ]
    },
    {
      "cell_type": "code",
      "execution_count": 2,
      "id": "6Sv0x_NslHW3",
      "metadata": {
        "colab": {
          "base_uri": "https://localhost:8080/"
        },
        "id": "6Sv0x_NslHW3",
        "outputId": "981086d0-713f-4873-c10c-453913d75ef0"
      },
      "outputs": [
        {
          "output_type": "stream",
          "name": "stdout",
          "text": [
            "Mounted at /content/drive/\n"
          ]
        }
      ],
      "source": [
        "import os, sys\n",
        "sys.path.append(os.path.abspath(\"../../\"))\n",
        "from google.colab import drive\n",
        "drive.mount('/content/drive/', force_remount=True)\n",
        "# os.chdir('/content/drive/MyDrive/TPGNN_explorative_tour/TPGNN-MTS/')"
      ]
    },
    {
      "cell_type": "code",
      "execution_count": 3,
      "id": "d3d56196-acfc-4ff6-ab37-5ea68218981d",
      "metadata": {
        "id": "d3d56196-acfc-4ff6-ab37-5ea68218981d"
      },
      "outputs": [],
      "source": [
        "import logging\n",
        "logging.getLogger().setLevel(logging.DEBUG)"
      ]
    },
    {
      "cell_type": "code",
      "execution_count": 4,
      "id": "98fd1b63-913f-4837-a03b-573d9ca67fcb",
      "metadata": {
        "id": "98fd1b63-913f-4837-a03b-573d9ca67fcb"
      },
      "outputs": [],
      "source": [
        "import pandas as pd\n",
        "pd.options.display.max_columns=999\n",
        "\n",
        "from pathlib import Path\n",
        "import os, sys\n",
        "sys.path.append(os.path.abspath(\"../../\"))\n",
        "# visulization\n",
        "import numpy as np"
      ]
    },
    {
      "cell_type": "code",
      "execution_count": 5,
      "id": "1WCV-5cdMdrW",
      "metadata": {
        "colab": {
          "base_uri": "https://localhost:8080/"
        },
        "id": "1WCV-5cdMdrW",
        "outputId": "dca23edc-4578-4b77-eab7-29957a2ac580"
      },
      "outputs": [
        {
          "output_type": "stream",
          "name": "stdout",
          "text": [
            "Drive already mounted at /content/drive; to attempt to forcibly remount, call drive.mount(\"/content/drive\", force_remount=True).\n"
          ]
        }
      ],
      "source": [
        "from google.colab import drive\n",
        "drive.mount('/content/drive')"
      ]
    },
    {
      "cell_type": "code",
      "execution_count": null,
      "id": "gGfOcKPsmtal",
      "metadata": {
        "id": "gGfOcKPsmtal"
      },
      "outputs": [],
      "source": [
        "# !pip install -r \"/content/drive/MyDrive/TPGNN_explorative_tour/TPGNN-MTS/requirements.txt\""
      ]
    },
    {
      "cell_type": "code",
      "execution_count": null,
      "id": "AisF5hzDl6uC",
      "metadata": {
        "id": "AisF5hzDl6uC"
      },
      "outputs": [],
      "source": [
        "# !pip install fire"
      ]
    },
    {
      "cell_type": "code",
      "execution_count": null,
      "id": "e291a2d4-2376-48b8-8b5a-6c12a2fdfcda",
      "metadata": {
        "id": "e291a2d4-2376-48b8-8b5a-6c12a2fdfcda"
      },
      "outputs": [],
      "source": [
        "data_path='data/PeMS/V_228.csv' #path to the MTS data\n",
        "adj_path='data/PeMS/W_228.csv'  #path to the adjacency matrix, None if not exists\n",
        "data_root='data/PeMS' #Directory to the MTS data\n",
        "stamp_path=\"${data_root}/time_stamp.npy\"\n",
        "# pd.read_csv('/content/drive/MyDrive/TPGNN_explorative_tour/TPGNN-MTS/data/PeMS/V_228.csv')\n",
        "# pd.read_csv(data_path)"
      ]
    },
    {
      "cell_type": "code",
      "execution_count": null,
      "id": "a9a4990c-7ef1-4bd8-8b3d-8f70f2db159d",
      "metadata": {
        "colab": {
          "base_uri": "https://localhost:8080/"
        },
        "id": "a9a4990c-7ef1-4bd8-8b3d-8f70f2db159d",
        "outputId": "34ea22e2-b0e9-488e-bda9-49c48d99be37",
        "scrolled": true
      },
      "outputs": [
        {
          "name": "stdout",
          "output_type": "stream",
          "text": [
            "2.4.1+cu121\n"
          ]
        }
      ],
      "source": [
        "import os\n",
        "import torch\n",
        "os.environ['TORCH'] = torch.__version__\n",
        "print(torch.__version__)"
      ]
    },
    {
      "cell_type": "markdown",
      "id": "R3qmVYXHcEjv",
      "metadata": {
        "id": "R3qmVYXHcEjv"
      },
      "source": [
        "#MTGNN\n"
      ]
    },
    {
      "cell_type": "code",
      "execution_count": 6,
      "id": "f7nR6cltcBcE",
      "metadata": {
        "id": "f7nR6cltcBcE"
      },
      "outputs": [],
      "source": [
        "os.chdir('/content/drive/MyDrive/TPGNN_explorative_tour/MTGNN/')\n",
        "\n",
        "# os.getcwd()"
      ]
    },
    {
      "cell_type": "code",
      "execution_count": 7,
      "id": "cMpZrzj0ebTA",
      "metadata": {
        "colab": {
          "base_uri": "https://localhost:8080/"
        },
        "id": "cMpZrzj0ebTA",
        "outputId": "4dc18d16-abc3-485d-d770-eb739cee1e7f"
      },
      "outputs": [
        {
          "output_type": "stream",
          "name": "stdout",
          "text": [
            "2.4.1+cu121\n"
          ]
        }
      ],
      "source": [
        "import os\n",
        "import torch\n",
        "os.environ['TORCH'] = torch.__version__\n",
        "print(torch.__version__)"
      ]
    },
    {
      "cell_type": "code",
      "source": [
        "# 0924 Unilever report\n",
        "!python train_multi_step.py --data ./data/unilever/ --num_nodes 3180 --device=cuda:0 --save ./log/ --seq_out_len 6 --seq_in_len 6 --epochs 100 --runs 1"
      ],
      "metadata": {
        "colab": {
          "base_uri": "https://localhost:8080/"
        },
        "id": "vTHw6S3Y4K03",
        "outputId": "6b18b4ee-52f3-4bd7-af83-de9fc40a02d5"
      },
      "id": "vTHw6S3Y4K03",
      "execution_count": null,
      "outputs": [
        {
          "output_type": "stream",
          "name": "stdout",
          "text": [
            "Namespace(device='cuda:0', data='./data/unilever/', adj_data='data/sensor_graph/adj_mx.pkl', gcn_true=True, buildA_true=True, load_static_feature=False, cl=True, gcn_depth=2, num_nodes=3180, dropout=0.3, subgraph_size=20, node_dim=40, dilation_exponential=1, conv_channels=32, residual_channels=32, skip_channels=64, end_channels=128, in_dim=2, seq_in_len=6, seq_out_len=6, layers=3, batch_size=64, learning_rate=0.001, weight_decay=0.0001, clip=5, step_size1=2500, step_size2=100, epochs=100, print_every=50, seed=101, save='./log/', expid=1, propalpha=0.05, tanhalpha=3, num_split=1, runs=1)\n",
            "The recpetive field size is 19\n",
            "Number of model parameters is 4638230\n",
            "start training...\n",
            "/content/drive/MyDrive/TPGNN_explorative_tour/MTGNN/layer.py:188: UserWarning: Implicit dimension choice for softmax has been deprecated. Change the call to include dim=X as an argument.\n",
            "  adj = F.softmax(F.relu(a))\n",
            "Iter: 000, Train Loss: 0.2943, Train MAPE: 0.9510, Train RMSE: 0.3854\n",
            "Epoch: 001, Inference Time: 0.3632 secs\n",
            "Epoch: 001, Train Loss: 0.2802, Train MAPE: 0.9579, Train RMSE: 0.3838, Valid Loss: 0.2736, Valid MAPE: 0.8883, Valid RMSE: 0.3750, Training Time: 3.1662/epoch\n",
            "Iter: 000, Train Loss: 0.2441, Train MAPE: 0.9711, Train RMSE: 0.3782\n",
            "Epoch: 002, Inference Time: 0.3622 secs\n",
            "Epoch: 002, Train Loss: 0.2328, Train MAPE: 0.9796, Train RMSE: 0.3743, Valid Loss: 0.2639, Valid MAPE: 0.9276, Valid RMSE: 0.3662, Training Time: 1.8333/epoch\n",
            "Iter: 000, Train Loss: 0.2097, Train MAPE: 1.0457, Train RMSE: 0.3682\n",
            "Epoch: 003, Inference Time: 0.3626 secs\n",
            "Epoch: 003, Train Loss: 0.2002, Train MAPE: 1.0627, Train RMSE: 0.3648, Valid Loss: 0.2569, Valid MAPE: 1.0373, Valid RMSE: 0.3573, Training Time: 1.8315/epoch\n",
            "Iter: 000, Train Loss: 0.1866, Train MAPE: 1.1499, Train RMSE: 0.3560\n",
            "Epoch: 004, Inference Time: 0.3651 secs\n",
            "Epoch: 004, Train Loss: 0.1927, Train MAPE: 1.2305, Train RMSE: 0.3562, Valid Loss: 0.2559, Valid MAPE: 1.1300, Valid RMSE: 0.3541, Training Time: 1.8368/epoch\n",
            "Iter: 000, Train Loss: 0.2016, Train MAPE: 1.3101, Train RMSE: 0.3538\n",
            "Epoch: 005, Inference Time: 0.3683 secs\n",
            "Epoch: 005, Train Loss: 0.2001, Train MAPE: 1.3088, Train RMSE: 0.3541, Valid Loss: 0.2563, Valid MAPE: 1.0942, Valid RMSE: 0.3552, Training Time: 1.8360/epoch\n",
            "Iter: 000, Train Loss: 0.1969, Train MAPE: 1.2946, Train RMSE: 0.3573\n",
            "Epoch: 006, Inference Time: 0.3643 secs\n",
            "Epoch: 006, Train Loss: 0.1922, Train MAPE: 1.2441, Train RMSE: 0.3562, Valid Loss: 0.2577, Valid MAPE: 1.0266, Valid RMSE: 0.3583, Training Time: 1.8355/epoch\n",
            "Iter: 000, Train Loss: 0.1846, Train MAPE: 1.1919, Train RMSE: 0.3583\n",
            "Epoch: 007, Inference Time: 0.3660 secs\n",
            "Epoch: 007, Train Loss: 0.1884, Train MAPE: 1.1598, Train RMSE: 0.3599, Valid Loss: 0.2600, Valid MAPE: 0.9821, Valid RMSE: 0.3615, Training Time: 1.8358/epoch\n",
            "Iter: 000, Train Loss: 0.1927, Train MAPE: 1.1069, Train RMSE: 0.3649\n",
            "Epoch: 008, Inference Time: 0.3642 secs\n",
            "Epoch: 008, Train Loss: 0.1904, Train MAPE: 1.1119, Train RMSE: 0.3630, Valid Loss: 0.2614, Valid MAPE: 0.9700, Valid RMSE: 0.3631, Training Time: 1.8355/epoch\n",
            "Iter: 000, Train Loss: 0.1919, Train MAPE: 1.1211, Train RMSE: 0.3634\n",
            "Epoch: 009, Inference Time: 0.3653 secs\n",
            "Epoch: 009, Train Loss: 0.1909, Train MAPE: 1.1030, Train RMSE: 0.3642, Valid Loss: 0.2618, Valid MAPE: 0.9784, Valid RMSE: 0.3632, Training Time: 1.8373/epoch\n",
            "Iter: 000, Train Loss: 0.1938, Train MAPE: 1.1417, Train RMSE: 0.3655\n",
            "Epoch: 010, Inference Time: 0.3666 secs\n",
            "Epoch: 010, Train Loss: 0.1890, Train MAPE: 1.1177, Train RMSE: 0.3641, Valid Loss: 0.2621, Valid MAPE: 1.0004, Valid RMSE: 0.3628, Training Time: 1.8358/epoch\n",
            "Iter: 000, Train Loss: 0.1851, Train MAPE: 1.1275, Train RMSE: 0.3617\n",
            "Epoch: 011, Inference Time: 0.3631 secs\n",
            "Epoch: 011, Train Loss: 0.1876, Train MAPE: 1.1498, Train RMSE: 0.3635, Valid Loss: 0.2628, Valid MAPE: 1.0272, Valid RMSE: 0.3626, Training Time: 1.8344/epoch\n",
            "Iter: 000, Train Loss: 0.1854, Train MAPE: 1.2243, Train RMSE: 0.3615\n",
            "Epoch: 012, Inference Time: 0.3651 secs\n",
            "Epoch: 012, Train Loss: 0.1879, Train MAPE: 1.1801, Train RMSE: 0.3633, Valid Loss: 0.2635, Valid MAPE: 1.0406, Valid RMSE: 0.3629, Training Time: 1.8326/epoch\n",
            "Iter: 000, Train Loss: 0.1881, Train MAPE: 1.2164, Train RMSE: 0.3639\n",
            "Epoch: 013, Inference Time: 0.3647 secs\n",
            "Epoch: 013, Train Loss: 0.1884, Train MAPE: 1.1884, Train RMSE: 0.3636, Valid Loss: 0.2639, Valid MAPE: 1.0334, Valid RMSE: 0.3633, Training Time: 1.8362/epoch\n",
            "Iter: 000, Train Loss: 0.1870, Train MAPE: 1.1943, Train RMSE: 0.3641\n",
            "Epoch: 014, Inference Time: 0.3648 secs\n",
            "Epoch: 014, Train Loss: 0.1874, Train MAPE: 1.1726, Train RMSE: 0.3642, Valid Loss: 0.2642, Valid MAPE: 1.0159, Valid RMSE: 0.3642, Training Time: 1.8368/epoch\n",
            "Iter: 000, Train Loss: 0.1849, Train MAPE: 1.1335, Train RMSE: 0.3637\n",
            "Epoch: 015, Inference Time: 0.3707 secs\n",
            "Epoch: 015, Train Loss: 0.1866, Train MAPE: 1.1467, Train RMSE: 0.3651, Valid Loss: 0.2648, Valid MAPE: 1.0004, Valid RMSE: 0.3651, Training Time: 1.8371/epoch\n",
            "Iter: 000, Train Loss: 0.1866, Train MAPE: 1.1341, Train RMSE: 0.3671\n",
            "Epoch: 016, Inference Time: 0.3638 secs\n",
            "Epoch: 016, Train Loss: 0.1866, Train MAPE: 1.1291, Train RMSE: 0.3660, Valid Loss: 0.2653, Valid MAPE: 0.9928, Valid RMSE: 0.3658, Training Time: 1.8485/epoch\n",
            "Iter: 000, Train Loss: 0.1848, Train MAPE: 1.1166, Train RMSE: 0.3652\n",
            "Epoch: 017, Inference Time: 0.3648 secs\n",
            "Epoch: 017, Train Loss: 0.1867, Train MAPE: 1.1209, Train RMSE: 0.3666, Valid Loss: 0.2657, Valid MAPE: 0.9938, Valid RMSE: 0.3661, Training Time: 1.8361/epoch\n",
            "Iter: 000, Train Loss: 0.1869, Train MAPE: 1.1597, Train RMSE: 0.3652\n",
            "Epoch: 018, Inference Time: 0.3647 secs\n",
            "Epoch: 018, Train Loss: 0.1862, Train MAPE: 1.1249, Train RMSE: 0.3668, Valid Loss: 0.2660, Valid MAPE: 1.0021, Valid RMSE: 0.3661, Training Time: 1.8387/epoch\n",
            "Iter: 000, Train Loss: 0.1872, Train MAPE: 1.1410, Train RMSE: 0.3672\n",
            "Epoch: 019, Inference Time: 0.3642 secs\n",
            "Epoch: 019, Train Loss: 0.1856, Train MAPE: 1.1395, Train RMSE: 0.3667, Valid Loss: 0.2663, Valid MAPE: 1.0138, Valid RMSE: 0.3660, Training Time: 1.8360/epoch\n",
            "Iter: 000, Train Loss: 0.1845, Train MAPE: 1.1446, Train RMSE: 0.3666\n",
            "Epoch: 020, Inference Time: 0.4239 secs\n",
            "Epoch: 020, Train Loss: 0.1853, Train MAPE: 1.1558, Train RMSE: 0.3666, Valid Loss: 0.2667, Valid MAPE: 1.0212, Valid RMSE: 0.3661, Training Time: 1.8338/epoch\n",
            "Iter: 000, Train Loss: 0.1851, Train MAPE: 1.1202, Train RMSE: 0.3662\n",
            "Epoch: 021, Inference Time: 0.3648 secs\n",
            "Epoch: 021, Train Loss: 0.1852, Train MAPE: 1.1635, Train RMSE: 0.3667, Valid Loss: 0.2671, Valid MAPE: 1.0199, Valid RMSE: 0.3665, Training Time: 1.8354/epoch\n",
            "Iter: 000, Train Loss: 0.1858, Train MAPE: 1.1675, Train RMSE: 0.3686\n",
            "Epoch: 022, Inference Time: 0.3646 secs\n",
            "Epoch: 022, Train Loss: 0.1844, Train MAPE: 1.1596, Train RMSE: 0.3671, Valid Loss: 0.2675, Valid MAPE: 1.0121, Valid RMSE: 0.3670, Training Time: 1.8386/epoch\n",
            "Iter: 000, Train Loss: 0.1830, Train MAPE: 1.1536, Train RMSE: 0.3669\n",
            "Epoch: 023, Inference Time: 0.3644 secs\n",
            "Epoch: 023, Train Loss: 0.1838, Train MAPE: 1.1506, Train RMSE: 0.3677, Valid Loss: 0.2678, Valid MAPE: 1.0031, Valid RMSE: 0.3675, Training Time: 1.8356/epoch\n",
            "Iter: 000, Train Loss: 0.1844, Train MAPE: 1.1513, Train RMSE: 0.3693\n",
            "Epoch: 024, Inference Time: 0.3650 secs\n",
            "Epoch: 024, Train Loss: 0.1835, Train MAPE: 1.1389, Train RMSE: 0.3683, Valid Loss: 0.2681, Valid MAPE: 0.9972, Valid RMSE: 0.3678, Training Time: 1.8358/epoch\n",
            "Iter: 000, Train Loss: 0.1849, Train MAPE: 1.1582, Train RMSE: 0.3687\n",
            "Epoch: 025, Inference Time: 0.3644 secs\n",
            "Epoch: 025, Train Loss: 0.1829, Train MAPE: 1.1330, Train RMSE: 0.3686, Valid Loss: 0.2682, Valid MAPE: 0.9978, Valid RMSE: 0.3680, Training Time: 1.8387/epoch\n",
            "Iter: 000, Train Loss: 0.1830, Train MAPE: 1.1720, Train RMSE: 0.3719\n",
            "Epoch: 026, Inference Time: 0.3658 secs\n",
            "Epoch: 026, Train Loss: 0.1822, Train MAPE: 1.1375, Train RMSE: 0.3686, Valid Loss: 0.2684, Valid MAPE: 1.0027, Valid RMSE: 0.3679, Training Time: 1.8356/epoch\n",
            "Iter: 000, Train Loss: 0.1816, Train MAPE: 1.1349, Train RMSE: 0.3703\n",
            "Epoch: 027, Inference Time: 0.3634 secs\n",
            "Epoch: 027, Train Loss: 0.1815, Train MAPE: 1.1450, Train RMSE: 0.3685, Valid Loss: 0.2685, Valid MAPE: 1.0058, Valid RMSE: 0.3679, Training Time: 1.8375/epoch\n",
            "Iter: 000, Train Loss: 0.1787, Train MAPE: 1.1305, Train RMSE: 0.3692\n",
            "Epoch: 028, Inference Time: 0.3636 secs\n",
            "Epoch: 028, Train Loss: 0.1804, Train MAPE: 1.1485, Train RMSE: 0.3685, Valid Loss: 0.2687, Valid MAPE: 1.0021, Valid RMSE: 0.3681, Training Time: 1.8326/epoch\n",
            "Iter: 000, Train Loss: 0.1787, Train MAPE: 1.1486, Train RMSE: 0.3668\n",
            "Epoch: 029, Inference Time: 0.3643 secs\n",
            "Epoch: 029, Train Loss: 0.1793, Train MAPE: 1.1415, Train RMSE: 0.3687, Valid Loss: 0.2688, Valid MAPE: 0.9962, Valid RMSE: 0.3684, Training Time: 1.8369/epoch\n",
            "Iter: 000, Train Loss: 0.1799, Train MAPE: 1.1115, Train RMSE: 0.3686\n",
            "Epoch: 030, Inference Time: 0.3647 secs\n",
            "Epoch: 030, Train Loss: 0.1782, Train MAPE: 1.1367, Train RMSE: 0.3689, Valid Loss: 0.2689, Valid MAPE: 0.9978, Valid RMSE: 0.3684, Training Time: 1.8353/epoch\n",
            "Iter: 000, Train Loss: 0.1768, Train MAPE: 1.1090, Train RMSE: 0.3654\n",
            "Epoch: 031, Inference Time: 0.3639 secs\n",
            "Epoch: 031, Train Loss: 0.1767, Train MAPE: 1.1397, Train RMSE: 0.3688, Valid Loss: 0.2690, Valid MAPE: 1.0036, Valid RMSE: 0.3683, Training Time: 1.8340/epoch\n",
            "Iter: 000, Train Loss: 0.1743, Train MAPE: 1.1654, Train RMSE: 0.3675\n",
            "Epoch: 032, Inference Time: 0.3676 secs\n",
            "Epoch: 032, Train Loss: 0.1750, Train MAPE: 1.1475, Train RMSE: 0.3687, Valid Loss: 0.2692, Valid MAPE: 1.0049, Valid RMSE: 0.3683, Training Time: 1.8426/epoch\n",
            "Iter: 000, Train Loss: 0.1744, Train MAPE: 1.1426, Train RMSE: 0.3693\n",
            "Epoch: 033, Inference Time: 0.3644 secs\n",
            "Epoch: 033, Train Loss: 0.1734, Train MAPE: 1.1432, Train RMSE: 0.3686, Valid Loss: 0.2693, Valid MAPE: 1.0045, Valid RMSE: 0.3683, Training Time: 1.8357/epoch\n",
            "Iter: 000, Train Loss: 0.1693, Train MAPE: 1.1495, Train RMSE: 0.3711\n",
            "Epoch: 034, Inference Time: 0.3647 secs\n",
            "Epoch: 034, Train Loss: 0.1714, Train MAPE: 1.1387, Train RMSE: 0.3685, Valid Loss: 0.2694, Valid MAPE: 1.0059, Valid RMSE: 0.3683, Training Time: 1.8366/epoch\n",
            "Iter: 000, Train Loss: 0.1692, Train MAPE: 1.1821, Train RMSE: 0.3691\n",
            "Epoch: 035, Inference Time: 0.3653 secs\n",
            "Epoch: 035, Train Loss: 0.1697, Train MAPE: 1.1415, Train RMSE: 0.3684, Valid Loss: 0.2695, Valid MAPE: 1.0049, Valid RMSE: 0.3683, Training Time: 1.8380/epoch\n",
            "Iter: 000, Train Loss: 0.1679, Train MAPE: 1.1457, Train RMSE: 0.3679\n",
            "Epoch: 036, Inference Time: 0.3673 secs\n",
            "Epoch: 036, Train Loss: 0.1680, Train MAPE: 1.1247, Train RMSE: 0.3683, Valid Loss: 0.2697, Valid MAPE: 1.0147, Valid RMSE: 0.3682, Training Time: 1.8371/epoch\n",
            "Iter: 000, Train Loss: 0.1661, Train MAPE: 1.1515, Train RMSE: 0.3661\n",
            "Epoch: 037, Inference Time: 0.3647 secs\n",
            "Epoch: 037, Train Loss: 0.1663, Train MAPE: 1.1303, Train RMSE: 0.3679, Valid Loss: 0.2697, Valid MAPE: 0.9925, Valid RMSE: 0.3686, Training Time: 1.8386/epoch\n",
            "Iter: 000, Train Loss: 0.1664, Train MAPE: 1.1112, Train RMSE: 0.3709\n",
            "Epoch: 038, Inference Time: 0.3654 secs\n",
            "Epoch: 038, Train Loss: 0.1647, Train MAPE: 1.1270, Train RMSE: 0.3678, Valid Loss: 0.2698, Valid MAPE: 0.9894, Valid RMSE: 0.3686, Training Time: 1.8370/epoch\n",
            "Iter: 000, Train Loss: 0.1624, Train MAPE: 1.0746, Train RMSE: 0.3680\n",
            "Epoch: 039, Inference Time: 0.3651 secs\n",
            "Epoch: 039, Train Loss: 0.1624, Train MAPE: 1.0921, Train RMSE: 0.3678, Valid Loss: 0.2699, Valid MAPE: 1.0203, Valid RMSE: 0.3681, Training Time: 1.8381/epoch\n",
            "Iter: 000, Train Loss: 0.1623, Train MAPE: 1.1072, Train RMSE: 0.3686\n",
            "Epoch: 040, Inference Time: 0.3667 secs\n",
            "Epoch: 040, Train Loss: 0.1617, Train MAPE: 1.1070, Train RMSE: 0.3675, Valid Loss: 0.2698, Valid MAPE: 0.9942, Valid RMSE: 0.3684, Training Time: 1.8388/epoch\n",
            "Iter: 000, Train Loss: 0.1610, Train MAPE: 1.0934, Train RMSE: 0.3653\n",
            "Epoch: 041, Inference Time: 0.3656 secs\n",
            "Epoch: 041, Train Loss: 0.1593, Train MAPE: 1.1017, Train RMSE: 0.3672, Valid Loss: 0.2699, Valid MAPE: 0.9900, Valid RMSE: 0.3685, Training Time: 1.8363/epoch\n",
            "Iter: 000, Train Loss: 0.1565, Train MAPE: 1.1011, Train RMSE: 0.3713\n",
            "Epoch: 042, Inference Time: 0.3650 secs\n",
            "Epoch: 042, Train Loss: 0.1579, Train MAPE: 1.0729, Train RMSE: 0.3673, Valid Loss: 0.2701, Valid MAPE: 1.0061, Valid RMSE: 0.3683, Training Time: 1.8382/epoch\n",
            "Iter: 000, Train Loss: 0.1557, Train MAPE: 1.0999, Train RMSE: 0.3661\n",
            "Epoch: 043, Inference Time: 0.3655 secs\n",
            "Epoch: 043, Train Loss: 0.1568, Train MAPE: 1.0744, Train RMSE: 0.3672, Valid Loss: 0.2702, Valid MAPE: 1.0111, Valid RMSE: 0.3683, Training Time: 1.8360/epoch\n",
            "Iter: 000, Train Loss: 0.1544, Train MAPE: 1.1084, Train RMSE: 0.3667\n",
            "Epoch: 044, Inference Time: 0.3647 secs\n",
            "Epoch: 044, Train Loss: 0.1554, Train MAPE: 1.0884, Train RMSE: 0.3668, Valid Loss: 0.2704, Valid MAPE: 0.9775, Valid RMSE: 0.3691, Training Time: 1.8353/epoch\n",
            "Iter: 000, Train Loss: 0.1562, Train MAPE: 1.0600, Train RMSE: 0.3699\n",
            "Epoch: 045, Inference Time: 0.3651 secs\n",
            "Epoch: 045, Train Loss: 0.1559, Train MAPE: 1.0703, Train RMSE: 0.3672, Valid Loss: 0.2704, Valid MAPE: 0.9865, Valid RMSE: 0.3689, Training Time: 1.8360/epoch\n",
            "Iter: 000, Train Loss: 0.1512, Train MAPE: 1.0372, Train RMSE: 0.3676\n",
            "Epoch: 046, Inference Time: 0.3657 secs\n",
            "Epoch: 046, Train Loss: 0.1531, Train MAPE: 1.0450, Train RMSE: 0.3670, Valid Loss: 0.2705, Valid MAPE: 1.0100, Valid RMSE: 0.3686, Training Time: 1.8403/epoch\n",
            "Iter: 000, Train Loss: 0.1534, Train MAPE: 1.0943, Train RMSE: 0.3661\n",
            "Epoch: 047, Inference Time: 0.3656 secs\n",
            "Epoch: 047, Train Loss: 0.1517, Train MAPE: 1.0673, Train RMSE: 0.3666, Valid Loss: 0.2705, Valid MAPE: 0.9741, Valid RMSE: 0.3693, Training Time: 1.8390/epoch\n",
            "Iter: 000, Train Loss: 0.1516, Train MAPE: 1.0033, Train RMSE: 0.3715\n",
            "Epoch: 048, Inference Time: 0.4105 secs\n",
            "Epoch: 048, Train Loss: 0.1515, Train MAPE: 1.0478, Train RMSE: 0.3668, Valid Loss: 0.2705, Valid MAPE: 0.9946, Valid RMSE: 0.3688, Training Time: 1.8361/epoch\n",
            "Iter: 000, Train Loss: 0.1503, Train MAPE: 1.0322, Train RMSE: 0.3674\n",
            "Epoch: 049, Inference Time: 0.3637 secs\n",
            "Epoch: 049, Train Loss: 0.1499, Train MAPE: 1.0419, Train RMSE: 0.3666, Valid Loss: 0.2706, Valid MAPE: 0.9964, Valid RMSE: 0.3689, Training Time: 1.8359/epoch\n",
            "Iter: 000, Train Loss: 0.1481, Train MAPE: 1.0261, Train RMSE: 0.3640\n",
            "Epoch: 050, Inference Time: 0.3628 secs\n",
            "Epoch: 050, Train Loss: 0.1488, Train MAPE: 1.0443, Train RMSE: 0.3666, Valid Loss: 0.2707, Valid MAPE: 0.9861, Valid RMSE: 0.3691, Training Time: 1.8349/epoch\n",
            "Iter: 000, Train Loss: 0.1479, Train MAPE: 1.0231, Train RMSE: 0.3657\n"
          ]
        }
      ]
    }
  ],
  "metadata": {
    "accelerator": "GPU",
    "colab": {
      "gpuType": "A100",
      "provenance": []
    },
    "kernelspec": {
      "display_name": "Python 3",
      "name": "python3"
    },
    "language_info": {
      "codemirror_mode": {
        "name": "ipython",
        "version": 3
      },
      "file_extension": ".py",
      "mimetype": "text/x-python",
      "name": "python",
      "nbconvert_exporter": "python",
      "pygments_lexer": "ipython3",
      "version": "3.11.9"
    }
  },
  "nbformat": 4,
  "nbformat_minor": 5
}