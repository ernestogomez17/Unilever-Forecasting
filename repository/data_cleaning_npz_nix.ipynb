{
 "cells": [
  {
   "cell_type": "code",
   "execution_count": null,
   "metadata": {},
   "outputs": [],
   "source": [
    "import pandas as pd\n",
    "import numpy as np"
   ]
  },
  {
   "cell_type": "code",
   "execution_count": null,
   "metadata": {},
   "outputs": [],
   "source": [
    "# Load the .npz files with allow_pickle=True\n",
    "timestamp_data = np.load('DEODORANT_and_FRAGRANCE_timestamp_dataset.npz', allow_pickle=True)\n",
    "data = np.load('DEODORANT_and_FRAGRANCE_dataset.npz', allow_pickle=True)\n",
    "\n",
    "# Extract the arrays using the correct keys\n",
    "timestamp_array = timestamp_data['timestamp_data']\n",
    "data_array = data['array_3d']\n",
    "\n",
    "# Reshape the timestamp array to get only the first slice\n",
    "reshaped_data_array = data_array[:, :, 0]\n",
    "\n",
    "# Convert both arrays to pandas DataFrames for easier viewing\n",
    "timestamp_df = pd.DataFrame(timestamp_array)\n",
    "data_df = pd.DataFrame(reshaped_data_array)"
   ]
  },
  {
   "cell_type": "code",
   "execution_count": null,
   "metadata": {},
   "outputs": [],
   "source": [
    "timestamp_df"
   ]
  },
  {
   "cell_type": "code",
   "execution_count": null,
   "metadata": {},
   "outputs": [],
   "source": [
    "data_df\n"
   ]
  },
  {
   "cell_type": "code",
   "execution_count": null,
   "metadata": {},
   "outputs": [],
   "source": [
    "# Rename only the first column of timestamp_df to 'Date'\n",
    "timestamp_df.rename(columns={timestamp_df.columns[0]: 'Date'}, inplace=True)\n",
    "\n",
    "# Ensure both DataFrames have the same number of rows\n",
    "if len(timestamp_df) != len(data_df):\n",
    "    raise ValueError(\"Both DataFrames must have the same number of rows.\")\n",
    "\n",
    "# Merge the timestamp_df and data_df\n",
    "merged_df = pd.concat([timestamp_df[['Date']], data_df], axis=1)\n",
    "\n",
    "# Output the merged DataFrame\n",
    "merged_df\n"
   ]
  },
  {
   "cell_type": "code",
   "execution_count": null,
   "metadata": {},
   "outputs": [],
   "source": [
    "# Melt the DataFrame, keeping 'Date' as the id variable and converting the other columns\n",
    "melted_df = merged_df.melt(id_vars=['Date'], var_name='unique_id', value_name='y')\n",
    "\n",
    "# Rename 'Date' to 'ds'\n",
    "melted_df.rename(columns={'Date': 'ds'}, inplace=True)\n",
    "\n",
    "# Rearrange the columns to have 'unique_id' first, then 'ds', and then 'y'\n",
    "melted_df = melted_df[['unique_id', 'ds', 'y']]\n",
    "\n",
    "# Output the final DataFrame\n",
    "melted_df\n"
   ]
  },
  {
   "cell_type": "code",
   "execution_count": null,
   "metadata": {},
   "outputs": [],
   "source": [
    "melted_df.to_csv('DEODORANT_and_FRAGRANCE_dataset.csv', index=False)"
   ]
  }
 ],
 "metadata": {
  "kernelspec": {
   "display_name": "neuralforecast",
   "language": "python",
   "name": "python3"
  },
  "language_info": {
   "codemirror_mode": {
    "name": "ipython",
    "version": 3
   },
   "file_extension": ".py",
   "mimetype": "text/x-python",
   "name": "python",
   "nbconvert_exporter": "python",
   "pygments_lexer": "ipython3",
   "version": "3.12.7"
  }
 },
 "nbformat": 4,
 "nbformat_minor": 2
}
